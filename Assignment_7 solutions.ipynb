{
 "cells": [
  {
   "cell_type": "code",
   "execution_count": null,
   "id": "11f7ca24",
   "metadata": {},
   "outputs": [],
   "source": [
    "## Regular expressions can be used to search for a specific patterns of text in the given string"
   ]
  },
  {
   "cell_type": "markdown",
   "id": "b57a4b00",
   "metadata": {},
   "source": [
    "1. What is the name of the feature responsible for generating Regex objects?"
   ]
  },
  {
   "cell_type": "markdown",
   "id": "a7dcf8ca",
   "metadata": {},
   "source": [
    "A) The re module and the compile function of the re module i.e. re.compile() returns regex objects"
   ]
  },
  {
   "cell_type": "markdown",
   "id": "9f2adc0d",
   "metadata": {},
   "source": [
    "2. Why do raw strings often appear in Regex objects?"
   ]
  },
  {
   "cell_type": "markdown",
   "id": "85ff8cdb",
   "metadata": {},
   "source": [
    "A) Raw strings are used to bypass python interpretation and treat escape sequences or metacharacters like string literals. This can be achieved by using backslash \\ character as well but this leads to a lot of repeated backslashes in RE, making the resulting string difficult to understand.\n",
    "\n",
    "text_to_search = \"C:\\Windows\\python\"\n",
    "pattern = re.compile(\"C:\\\\Windows\\\\python\") -> Backslash is a metacharacter and needs to be escaped.\n",
    "\n",
    "The above pattern will not return a match because \n",
    "1. \"C:\\\\Windows\\\\python\" is first interpreted by python interpreter as \"C:\\Windows\\python\" \n",
    "2. \"C:\\Windows\\python\" is then input to regex engine which will treat backslash as metacharacter and so we will not get a match.\n",
    "\n",
    "To use \"\\\" as a string literal, we must escape \\ with \\\\ for python interpreter and \\\\ with \\\\\\\\ for regex engine.\n",
    "Using too many backslashes will make the string look messy and difficult to understand. Hence we can use raw strings r\"text\" to escape python interpretation.\n",
    "\n",
    "pattern = re.compile(r\"C:\\\\Windows\\\\python\")"
   ]
  },
  {
   "cell_type": "code",
   "execution_count": 2,
   "id": "3d16078d",
   "metadata": {},
   "outputs": [
    {
     "data": {
      "text/plain": [
       "<re.Match object; span=(0, 17), match='C:\\\\Windows\\\\python'>"
      ]
     },
     "execution_count": 2,
     "metadata": {},
     "output_type": "execute_result"
    }
   ],
   "source": [
    "import re\n",
    "text_to_search = \"C:\\Windows\\python\"\n",
    "pattern = re.compile(r\"C:\\\\Windows\\\\python\")\n",
    "pattern.search(text_to_search)"
   ]
  },
  {
   "cell_type": "markdown",
   "id": "5aa6b83f",
   "metadata": {},
   "source": [
    "3. What is the return value of the search() method?"
   ]
  },
  {
   "cell_type": "markdown",
   "id": "1796ad71",
   "metadata": {},
   "source": [
    "A) The search() method takes regular expression pattern and string as argument and returns a match object if there is a match for that pattern in the string or None otherwise."
   ]
  },
  {
   "cell_type": "code",
   "execution_count": 12,
   "id": "28d44674",
   "metadata": {},
   "outputs": [
    {
     "name": "stdout",
     "output_type": "stream",
     "text": [
      "Match found 111-999-8882\n"
     ]
    }
   ],
   "source": [
    "text = \"111-999-8882\"\n",
    "match = re.search(r\"\\d+-\\d+-\\d+\",text)\n",
    "if match:\n",
    "    print(\"Match found\", match.group())\n",
    "else:\n",
    "    print(\"Match not found\")"
   ]
  },
  {
   "cell_type": "markdown",
   "id": "9e580c6d",
   "metadata": {},
   "source": [
    "4.From a Match item, how do you get the actual strings that match the pattern?"
   ]
  },
  {
   "cell_type": "markdown",
   "id": "57519502",
   "metadata": {},
   "source": [
    "A) By using the match.group() method. If no arguments are provided, it returns the complete matched string"
   ]
  },
  {
   "cell_type": "markdown",
   "id": "c10c4d35",
   "metadata": {},
   "source": [
    "5. In the regex which created from the r'(\\d\\d\\d)-(\\d\\d\\d-\\d\\d\\d\\d)', what does group zero cover? Group 2? Group 1?"
   ]
  },
  {
   "cell_type": "markdown",
   "id": "221ee88b",
   "metadata": {},
   "source": [
    "A) Group zero covers the entire string.\n",
    "Group one covers the subgroup (\\d\\d\\d)\n",
    "Group two covers the subgroup (\\d\\d\\d-\\d\\d\\d\\d)"
   ]
  },
  {
   "cell_type": "code",
   "execution_count": 6,
   "id": "38f42ee2",
   "metadata": {},
   "outputs": [
    {
     "name": "stdout",
     "output_type": "stream",
     "text": [
      "Group 0: 111-999-8882 \n",
      "Group 1: 111 \n",
      "Group 2: 999-8882\n"
     ]
    }
   ],
   "source": [
    "text = \"111-999-8882\"\n",
    "match = re.search(r'(\\d\\d\\d)-(\\d\\d\\d-\\d\\d\\d\\d)',text)\n",
    "print(\"Group 0:\", match.group(),\"\\nGroup 1:\", match.group(1),\"\\nGroup 2:\",match.group(2))"
   ]
  },
  {
   "cell_type": "markdown",
   "id": "1f7bf80c",
   "metadata": {},
   "source": [
    "6. In standard expression syntax, parentheses and intervals have distinct meanings. How can you tell a regex that you want it to fit real parentheses and periods?"
   ]
  },
  {
   "cell_type": "markdown",
   "id": "d82f9920",
   "metadata": {},
   "source": [
    "A) To include paranthesis and periods in regex, we escape them by using backslash character \\"
   ]
  },
  {
   "cell_type": "markdown",
   "id": "79f0d20a",
   "metadata": {},
   "source": [
    "7. The findall() method returns a string list or a list of string tuples. What causes it to return one of the two options?"
   ]
  },
  {
   "cell_type": "markdown",
   "id": "fd85c695",
   "metadata": {},
   "source": [
    "A) The findall(pattern, string, flags) method takes pattern and string as arguments and returns a list of string for every matched pattern in the given string. If there are no matches in the string, it returns an empty string\n",
    "If there are no groups, the method returns the list of strings matching the pattern.\n",
    "If there is one group, the method returns a list of strings matching the group.\n",
    "If there are multiple groups in the pattern then the method returns a list of tuples of strings matching the groups."
   ]
  },
  {
   "cell_type": "code",
   "execution_count": 7,
   "id": "b7e4507a",
   "metadata": {},
   "outputs": [
    {
     "data": {
      "text/plain": [
       "['black', 'blue', 'brown']"
      ]
     },
     "execution_count": 7,
     "metadata": {},
     "output_type": "execute_result"
    }
   ],
   "source": [
    "re.findall(r'b\\w+', \"black, blue, brown, Green, Orange\")"
   ]
  },
  {
   "cell_type": "code",
   "execution_count": 11,
   "id": "be28008c",
   "metadata": {},
   "outputs": [
    {
     "data": {
      "text/plain": [
       "[('blue', '1234'), ('brown', '2345')]"
      ]
     },
     "execution_count": 11,
     "metadata": {},
     "output_type": "execute_result"
    }
   ],
   "source": [
    "re.findall(r'(b\\w+)(\\d{4})', \"black, blue1234, brown2345, Green, Orange\")"
   ]
  },
  {
   "cell_type": "markdown",
   "id": "d1f5c936",
   "metadata": {},
   "source": [
    "8. In standard expressions, what does the | character mean?"
   ]
  },
  {
   "cell_type": "markdown",
   "id": "e78f11d6",
   "metadata": {},
   "source": [
    "A) It means OR operator. It checks if the pattern before or after the | operator matches with the string or not"
   ]
  },
  {
   "cell_type": "markdown",
   "id": "255bc73e",
   "metadata": {},
   "source": [
    "9. In regular expressions, what does the character ? stand for"
   ]
  },
  {
   "cell_type": "markdown",
   "id": "83c0f06b",
   "metadata": {},
   "source": [
    "A) The character ? checks if the pattern before ? symbol in regex occurs zero or one time in the string"
   ]
  },
  {
   "cell_type": "markdown",
   "id": "c55a5db1",
   "metadata": {},
   "source": [
    "10.In regular expressions, what is the difference between the + and * characters?"
   ]
  },
  {
   "cell_type": "markdown",
   "id": "9877c591",
   "metadata": {},
   "source": [
    "A) + = checks if the pattern before + symbol in regex occurs one or more times in the string\n",
    "* = checks if the pattern before * symbol in regex occurs zero or more times in the string"
   ]
  },
  {
   "cell_type": "markdown",
   "id": "25fb8676",
   "metadata": {},
   "source": [
    "11. What is the difference between {4} and {4,5} in regular expression?"
   ]
  },
  {
   "cell_type": "markdown",
   "id": "95348e8f",
   "metadata": {},
   "source": [
    "A) {} indicates the number of occurances of preceding regex to match.\n",
    "{4} = 4 occurances of the preceding regex to match\n",
    "{4,5} = match 4 to 5 instances of the preceding regex."
   ]
  },
  {
   "cell_type": "code",
   "execution_count": 14,
   "id": "be610f7c",
   "metadata": {},
   "outputs": [
    {
     "data": {
      "text/plain": [
       "<re.Match object; span=(0, 4), match='2343'>"
      ]
     },
     "execution_count": 14,
     "metadata": {},
     "output_type": "execute_result"
    }
   ],
   "source": [
    "re.search(r'(\\d{4})','2343447487287878')"
   ]
  },
  {
   "cell_type": "code",
   "execution_count": 15,
   "id": "6357bce3",
   "metadata": {},
   "outputs": [
    {
     "data": {
      "text/plain": [
       "<re.Match object; span=(0, 5), match='23434'>"
      ]
     },
     "execution_count": 15,
     "metadata": {},
     "output_type": "execute_result"
    }
   ],
   "source": [
    "re.search(r'(\\d{4,5})','2343447487287878')"
   ]
  },
  {
   "cell_type": "markdown",
   "id": "15df6d16",
   "metadata": {},
   "source": [
    "12. What do you mean by the \\d, \\w, and \\s shorthand character classes signify in regular expressions?"
   ]
  },
  {
   "cell_type": "markdown",
   "id": "0be59ed8",
   "metadata": {},
   "source": [
    "A) \\d = matches numeric digits [0-9]\n",
    "\\w = matches letters, numeric digits and underscore character [a-zA-Z0-9_]\n",
    "\\s = matches whitespace characters [\\t\\n\\r]"
   ]
  },
  {
   "cell_type": "markdown",
   "id": "a76abb61",
   "metadata": {},
   "source": [
    "13. What do means by \\D, \\W, and \\S shorthand character classes signify in regular expressions?"
   ]
  },
  {
   "cell_type": "markdown",
   "id": "2fb481e6",
   "metadata": {},
   "source": [
    "A) \\D = opposite of \\d. matches any character that is not a digit[^0-9]\n",
    "\\W = opposite of \\w. matches any character that is not a word character. [^0-9_a-zA-Z]\n",
    "\\S = oppositr of \\s. matches any character that is not a whitespace character. [^\\t\\r\\n]"
   ]
  },
  {
   "cell_type": "markdown",
   "id": "9f011410",
   "metadata": {},
   "source": [
    "14. What is the difference between .*? and .* ?"
   ]
  },
  {
   "cell_type": "markdown",
   "id": "20597fbd",
   "metadata": {},
   "source": [
    "A)\n",
    ".*  is the Greedy quantifier. The greedy quantifier will always try to find the longest match possible. The greedy quantifier will not stop if a match is found at certain stage in the given string, it will keep on looking until no further match is found. All the quantifiers are greedy by default.\n",
    "\n",
    ".*? is the Non-greedy quantifier. It is the opposite of greedy quantifier. It will try to find the smallest match possible from the given string. We can make a greedy quantifier non-greedy by adding ? at the end of the pattern."
   ]
  },
  {
   "cell_type": "code",
   "execution_count": 6,
   "id": "efee6e41",
   "metadata": {},
   "outputs": [
    {
     "data": {
      "text/plain": [
       "['<a>Python Programming<b>language</b>']"
      ]
     },
     "execution_count": 6,
     "metadata": {},
     "output_type": "execute_result"
    }
   ],
   "source": [
    "## Greedy quantifier example:\n",
    "re.findall('<.*>','<a>Python Programming<b>language</b></a')"
   ]
  },
  {
   "cell_type": "code",
   "execution_count": 9,
   "id": "42c61004",
   "metadata": {},
   "outputs": [
    {
     "data": {
      "text/plain": [
       "['<a>', '<b>', '</b>', '</a>']"
      ]
     },
     "execution_count": 9,
     "metadata": {},
     "output_type": "execute_result"
    }
   ],
   "source": [
    "## Non-Greedy quantifier example:\n",
    "re.findall('<.*?>','<a>Python Programming<b>language</b></a>')"
   ]
  },
  {
   "cell_type": "markdown",
   "id": "8e1acfb5",
   "metadata": {},
   "source": [
    "15. What is the syntax for matching both numbers and lowercase letters with a character class?"
   ]
  },
  {
   "cell_type": "markdown",
   "id": "2bb2b780",
   "metadata": {},
   "source": [
    "A) [0-9a-z]"
   ]
  },
  {
   "cell_type": "code",
   "execution_count": 17,
   "id": "a867de7c",
   "metadata": {},
   "outputs": [
    {
     "data": {
      "text/plain": [
       "['y', 't', 'h', 'o', 'n', 'v', 'e', 'r', '3']"
      ]
     },
     "execution_count": 17,
     "metadata": {},
     "output_type": "execute_result"
    }
   ],
   "source": [
    "re.findall(r\"[0-9a-z]\",\"Python ver 3\")"
   ]
  },
  {
   "cell_type": "code",
   "execution_count": null,
   "id": "bb21ca77",
   "metadata": {},
   "outputs": [],
   "source": [
    "16. What is the procedure for making a normal expression in regax case insensitive?"
   ]
  },
  {
   "cell_type": "markdown",
   "id": "9af2fcff",
   "metadata": {},
   "source": [
    "A) 1.To enable case insensitive search, we can set the flag parameter of functions like search, findall, match to re.IGNORECASE\n",
    "2. We can use the case insensitive marker (?i) before the regex expression in functions like search, findall, match etc."
   ]
  },
  {
   "cell_type": "code",
   "execution_count": 4,
   "id": "af0b136c",
   "metadata": {},
   "outputs": [
    {
     "data": {
      "text/plain": [
       "['Python']"
      ]
     },
     "execution_count": 4,
     "metadata": {},
     "output_type": "execute_result"
    }
   ],
   "source": [
    "re.findall(r\"PYTHON\",\"Python ver 3\",re.IGNORECASE)\n",
    "re.findall(r\"(?i)PYTHON\",\"Python ver 3\")"
   ]
  },
  {
   "cell_type": "markdown",
   "id": "bbdf2fbc",
   "metadata": {},
   "source": [
    "17. What does the . character normally match? What does it match if re.DOTALL is passed as 2nd argument in re.compile()?"
   ]
  },
  {
   "cell_type": "markdown",
   "id": "5b3dd373",
   "metadata": {},
   "source": [
    "A) . matches any character except newline character. If the DOTALL flag is passed to the compile function then the . character matches any character including newline. It is used in scenarios when we have to match multi-line strings with newline characters."
   ]
  },
  {
   "cell_type": "code",
   "execution_count": 5,
   "id": "d204473c",
   "metadata": {},
   "outputs": [
    {
     "data": {
      "text/plain": [
       "['</p>\\nPython is a programming language that lets you work more quickly and integrate your systems more effectively.\\nYou can learn to use Python and see almost immediate gains in productivity and lower maintenance costs.\\n</p>']"
      ]
     },
     "execution_count": 5,
     "metadata": {},
     "output_type": "execute_result"
    }
   ],
   "source": [
    "txt = \"\"\"</p>\n",
    "Python is a programming language that lets you work more quickly and integrate your systems more effectively.\n",
    "You can learn to use Python and see almost immediate gains in productivity and lower maintenance costs.\n",
    "</p>\"\"\"\n",
    "\n",
    "re.findall(r'</p>.*</p>',txt,re.DOTALL)"
   ]
  },
  {
   "cell_type": "markdown",
   "id": "2daf4985",
   "metadata": {},
   "source": [
    "18. If numReg = re.compile(r'\\d+'), what will numRegex.sub('X', '11 drummers, 10 pipers, five rings, 4 hen') return?"
   ]
  },
  {
   "cell_type": "code",
   "execution_count": 8,
   "id": "be1bd2d9",
   "metadata": {},
   "outputs": [
    {
     "data": {
      "text/plain": [
       "'X drummers, X pipers, five rings, X hen'"
      ]
     },
     "execution_count": 8,
     "metadata": {},
     "output_type": "execute_result"
    }
   ],
   "source": [
    "numReg = re.compile(r'\\d+')\n",
    "numReg.sub('X', '11 drummers, 10 pipers, five rings, 4 hen') ##replaces every digit with character 'X'"
   ]
  },
  {
   "cell_type": "markdown",
   "id": "f1c2325f",
   "metadata": {},
   "source": [
    "19. What does passing re.VERBOSE as the 2nd argument to re.compile() allow to do?"
   ]
  },
  {
   "cell_type": "markdown",
   "id": "02581142",
   "metadata": {},
   "source": [
    "A) The re.VERBOSE flag allows the user to write regular expression that look nicer and are more readable. It allows us to separate the logical sections of the pattern and add more comments"
   ]
  },
  {
   "cell_type": "code",
   "execution_count": 97,
   "id": "dedb12e7",
   "metadata": {},
   "outputs": [
    {
     "name": "stdout",
     "output_type": "stream",
     "text": [
      "<re.Match object; span=(11, 18), match='Ankita '>\n"
     ]
    }
   ],
   "source": [
    "##verbose ignores whitespace characters in pattern, hence whitespace need to be substituted with []\n",
    "\n",
    "regex = re.compile(r\"\"\"\n",
    "Ankita[]#First Name                        \n",
    "Pan[]#Second Name\"\"\", re.IGNORECASE | re.VERBOSE) \n",
    "print(regex.search(\"My Name is Ankita Pan \"))"
   ]
  },
  {
   "cell_type": "code",
   "execution_count": null,
   "id": "b6dd5257",
   "metadata": {},
   "outputs": [],
   "source": [
    "# 20. How would you write a regex that match a number with comma for every three digits? It must match the given following:\n",
    "# '42'\n",
    "# '1,234'\n",
    "# '6,368,745'\n",
    "# but not the following:\n",
    "# '12,34,567' (which has only two digits between the commas)\n",
    "# '1234' (which lacks commas)"
   ]
  },
  {
   "cell_type": "code",
   "execution_count": 68,
   "id": "afa828dd",
   "metadata": {},
   "outputs": [
    {
     "data": {
      "text/plain": [
       "<re.Match object; span=(0, 9), match='6,368,745'>"
      ]
     },
     "execution_count": 68,
     "metadata": {},
     "output_type": "execute_result"
    }
   ],
   "source": [
    "re.search(r'\\d{1,3}(,\\d{3})*','6,368,745')"
   ]
  },
  {
   "cell_type": "code",
   "execution_count": 67,
   "id": "b3aab793",
   "metadata": {},
   "outputs": [
    {
     "data": {
      "text/plain": [
       "<re.Match object; span=(0, 5), match='1,234'>"
      ]
     },
     "execution_count": 67,
     "metadata": {},
     "output_type": "execute_result"
    }
   ],
   "source": [
    "re.search(r'\\d{1,3}(,\\d{3})*','1,234')"
   ]
  },
  {
   "cell_type": "code",
   "execution_count": 66,
   "id": "047dc84b",
   "metadata": {},
   "outputs": [
    {
     "data": {
      "text/plain": [
       "<re.Match object; span=(0, 2), match='42'>"
      ]
     },
     "execution_count": 66,
     "metadata": {},
     "output_type": "execute_result"
    }
   ],
   "source": [
    "re.search(r'\\d{1,3}(,\\d{3})*','42')"
   ]
  },
  {
   "cell_type": "code",
   "execution_count": 71,
   "id": "af9af723",
   "metadata": {},
   "outputs": [],
   "source": [
    "re.search(r'^\\d{1,3}(,\\d{3})*$','12,34,567')"
   ]
  },
  {
   "cell_type": "code",
   "execution_count": 72,
   "id": "556c4264",
   "metadata": {},
   "outputs": [],
   "source": [
    "re.search(r'^\\d{1,3}(,\\d{3})*$','1234')"
   ]
  },
  {
   "cell_type": "code",
   "execution_count": null,
   "id": "7afb5065",
   "metadata": {},
   "outputs": [],
   "source": [
    "# 21. How would you write a regex that matches the full name of someone whose last name is Watanabe? You can assume that the first name that comes before it will always be one word that begins with a capital letter. The regex must match the following:\n",
    "# 'Haruto Watanabe'\n",
    "# 'Alice Watanabe'\n",
    "# 'RoboCop Watanabe'\n",
    "# but not the following:\n",
    "# 'haruto Watanabe' (where the first name is not capitalized)\n",
    "# 'Mr. Watanabe' (where the preceding word has a nonletter character)\n",
    "# 'Watanabe' (which has no first name)\n",
    "# 'Haruto watanabe' (where Watanabe is not capitalized)\n"
   ]
  },
  {
   "cell_type": "code",
   "execution_count": 62,
   "id": "5b3fe163",
   "metadata": {},
   "outputs": [
    {
     "data": {
      "text/plain": [
       "<re.Match object; span=(0, 15), match='Haruto Watanabe'>"
      ]
     },
     "execution_count": 62,
     "metadata": {},
     "output_type": "execute_result"
    }
   ],
   "source": [
    "re.search(r'[A-Z]\\w+\\sWatanabe','Haruto Watanabe')"
   ]
  },
  {
   "cell_type": "code",
   "execution_count": 73,
   "id": "7a8f5823",
   "metadata": {},
   "outputs": [
    {
     "data": {
      "text/plain": [
       "<re.Match object; span=(0, 14), match='Alice Watanabe'>"
      ]
     },
     "execution_count": 73,
     "metadata": {},
     "output_type": "execute_result"
    }
   ],
   "source": [
    "re.search(r'[A-Z]\\w+\\sWatanabe','Alice Watanabe')"
   ]
  },
  {
   "cell_type": "code",
   "execution_count": 74,
   "id": "3d2c15a7",
   "metadata": {},
   "outputs": [
    {
     "data": {
      "text/plain": [
       "<re.Match object; span=(0, 16), match='RoboCop Watanabe'>"
      ]
     },
     "execution_count": 74,
     "metadata": {},
     "output_type": "execute_result"
    }
   ],
   "source": [
    "re.search(r'[A-Z]\\w+\\sWatanabe','RoboCop Watanabe')"
   ]
  },
  {
   "cell_type": "code",
   "execution_count": 75,
   "id": "a797cf7d",
   "metadata": {},
   "outputs": [],
   "source": [
    "re.search(r'[A-Z]\\w+\\sWatanabe','haruto Watanabe')"
   ]
  },
  {
   "cell_type": "code",
   "execution_count": null,
   "id": "32c0c9d1",
   "metadata": {},
   "outputs": [],
   "source": [
    "re.search(r'[A-Z]\\w+\\sWatanabe','Mr. Watanabe')"
   ]
  },
  {
   "cell_type": "code",
   "execution_count": 76,
   "id": "bbfebf84",
   "metadata": {},
   "outputs": [],
   "source": [
    "re.search(r'[A-Z]\\w+\\sWatanabe','Watanabe')"
   ]
  },
  {
   "cell_type": "code",
   "execution_count": 77,
   "id": "85baf9b1",
   "metadata": {},
   "outputs": [],
   "source": [
    "re.search(r'[A-Z]\\w+\\sWatanabe','Haruto watanabe')"
   ]
  },
  {
   "cell_type": "code",
   "execution_count": null,
   "id": "ea358cfc",
   "metadata": {},
   "outputs": [],
   "source": [
    "# <!-- 22. How would you write a regex that matches a sentence where the first word is either Alice, Bob, or Carol; the second word is either eats, pets, or throws; the third word is apples, cats, or baseballs; and the sentence ends with a period? This regex should be case-insensitive. It must match the following:\n",
    "# 'Alice eats apples.'\n",
    "# 'Bob pets cats.'\n",
    "# 'Carol throws baseballs.'\n",
    "# 'Alice throws Apples.'\n",
    "# 'BOB EATS CATS.'\n",
    "# but not the following:\n",
    "# 'RoboCop eats apples.'\n",
    "# 'ALICE THROWS FOOTBALLS.'\n",
    "# 'Carol eats 7 cats.'\n",
    "#  -->"
   ]
  },
  {
   "cell_type": "code",
   "execution_count": 86,
   "id": "11e56f8f",
   "metadata": {},
   "outputs": [
    {
     "data": {
      "text/plain": [
       "<re.Match object; span=(0, 18), match='Alice eats apples.'>"
      ]
     },
     "execution_count": 86,
     "metadata": {},
     "output_type": "execute_result"
    }
   ],
   "source": [
    "re.search(r'(Alice|Bob|Carol)\\s(eats|pets|throws)\\s(apples|cats|baseballs)\\.','Alice eats apples.',re.IGNORECASE)"
   ]
  },
  {
   "cell_type": "code",
   "execution_count": 87,
   "id": "4c4376c2",
   "metadata": {},
   "outputs": [
    {
     "data": {
      "text/plain": [
       "<re.Match object; span=(0, 14), match='Bob pets cats.'>"
      ]
     },
     "execution_count": 87,
     "metadata": {},
     "output_type": "execute_result"
    }
   ],
   "source": [
    "re.search(r'(Alice|Bob|Carol)\\s(eats|pets|throws)\\s(apples|cats|baseballs)\\.','Bob pets cats.',re.IGNORECASE)"
   ]
  },
  {
   "cell_type": "code",
   "execution_count": 88,
   "id": "cabaf84e",
   "metadata": {},
   "outputs": [
    {
     "data": {
      "text/plain": [
       "<re.Match object; span=(0, 23), match='Carol throws baseballs.'>"
      ]
     },
     "execution_count": 88,
     "metadata": {},
     "output_type": "execute_result"
    }
   ],
   "source": [
    "re.search(r'(Alice|Bob|Carol)\\s(eats|pets|throws)\\s(apples|cats|baseballs)\\.','Carol throws baseballs.',re.IGNORECASE)"
   ]
  },
  {
   "cell_type": "code",
   "execution_count": 89,
   "id": "2a72e87b",
   "metadata": {},
   "outputs": [
    {
     "data": {
      "text/plain": [
       "<re.Match object; span=(0, 20), match='Alice throws Apples.'>"
      ]
     },
     "execution_count": 89,
     "metadata": {},
     "output_type": "execute_result"
    }
   ],
   "source": [
    "re.search(r'(Alice|Bob|Carol)\\s(eats|pets|throws)\\s(apples|cats|baseballs)\\.','Alice throws Apples.',re.IGNORECASE)"
   ]
  },
  {
   "cell_type": "code",
   "execution_count": 90,
   "id": "7df653a9",
   "metadata": {},
   "outputs": [
    {
     "data": {
      "text/plain": [
       "<re.Match object; span=(0, 14), match='BOB EATS CATS.'>"
      ]
     },
     "execution_count": 90,
     "metadata": {},
     "output_type": "execute_result"
    }
   ],
   "source": [
    "re.search(r'(Alice|Bob|Carol)\\s(eats|pets|throws)\\s(apples|cats|baseballs)\\.','BOB EATS CATS.',re.IGNORECASE)"
   ]
  },
  {
   "cell_type": "code",
   "execution_count": 91,
   "id": "05ca7040",
   "metadata": {},
   "outputs": [],
   "source": [
    "re.search(r'(Alice|Bob|Carol)\\s(eats|pets|throws)\\s(apples|cats|baseballs)\\.','RoboCop eats apples.',re.IGNORECASE)"
   ]
  },
  {
   "cell_type": "code",
   "execution_count": 92,
   "id": "32544298",
   "metadata": {},
   "outputs": [],
   "source": [
    "re.search(r'(Alice|Bob|Carol)\\s(eats|pets|throws)\\s(apples|cats|baseballs)\\.','ALICE THROWS FOOTBALLS.',re.IGNORECASE)"
   ]
  },
  {
   "cell_type": "code",
   "execution_count": 93,
   "id": "5f1a7285",
   "metadata": {},
   "outputs": [],
   "source": [
    "re.search(r'(Alice|Bob|Carol)\\s(eats|pets|throws)\\s(apples|cats|baseballs)\\.','Carol eats 7 cats.',re.IGNORECASE)"
   ]
  },
  {
   "cell_type": "code",
   "execution_count": null,
   "id": "0e2a4fce",
   "metadata": {},
   "outputs": [],
   "source": []
  }
 ],
 "metadata": {
  "kernelspec": {
   "display_name": "Python 3",
   "language": "python",
   "name": "python3"
  },
  "language_info": {
   "codemirror_mode": {
    "name": "ipython",
    "version": 3
   },
   "file_extension": ".py",
   "mimetype": "text/x-python",
   "name": "python",
   "nbconvert_exporter": "python",
   "pygments_lexer": "ipython3",
   "version": "3.8.8"
  }
 },
 "nbformat": 4,
 "nbformat_minor": 5
}
